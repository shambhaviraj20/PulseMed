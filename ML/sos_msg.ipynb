{
 "cells": [
  {
   "cell_type": "code",
   "execution_count": null,
   "metadata": {},
   "outputs": [],
   "source": [
    "from twilio.rest import Client\n",
    "import random\n",
    "import os\n",
    "from dotenv import load_dotenv\n",
    "load_dotenv()\n",
    "\n",
    "\n",
    "\n",
    "twilio_sid = os.getenv(\"TWILIO_ACCOUNT_SID\")\n",
    "twilio_token = os.getenv(\"TWILIO_AUTH_TOKEN\")\n",
    "\n",
    "client = Client(twilio_sid, twilio_token)\n",
    "\n",
    "message = client.messages.create(\n",
    "\n",
    "  body=f'Hello' ,\n",
    "  from_='+18153840986',\n",
    "  to='+918766049932'\n",
    ")\n"
   ]
  }
 ],
 "metadata": {
  "kernelspec": {
   "display_name": "Python 3",
   "language": "python",
   "name": "python3"
  },
  "language_info": {
   "codemirror_mode": {
    "name": "ipython",
    "version": 3
   },
   "file_extension": ".py",
   "mimetype": "text/x-python",
   "name": "python",
   "nbconvert_exporter": "python",
   "pygments_lexer": "ipython3",
   "version": "3.11.3"
  }
 },
 "nbformat": 4,
 "nbformat_minor": 2
}
